{
 "cells": [
  {
   "cell_type": "code",
   "execution_count": 1,
   "metadata": {
    "id": "BOHd0J26gEg7"
   },
   "outputs": [],
   "source": [
    "import numpy"
   ]
  },
  {
   "cell_type": "code",
   "execution_count": 2,
   "metadata": {
    "colab": {
     "base_uri": "https://localhost:8080/"
    },
    "id": "jo7VxS0GgK3R",
    "outputId": "3f179e03-7e88-46f0-e10d-d580509dc530"
   },
   "outputs": [
    {
     "name": "stdout",
     "output_type": "stream",
     "text": [
      "Mounted at /content/drive\n"
     ]
    }
   ],
   "source": [
    "# from google.colab import drive\n",
    "# drive.mount('/content/drive')"
   ]
  },
  {
   "cell_type": "code",
   "execution_count": 4,
   "metadata": {
    "id": "-BeFWfnAgNR8"
   },
   "outputs": [],
   "source": [
    "path=\"./new_test.csv\"\n",
    "import pandas as pd\n",
    "df=pd.read_csv(path)\n",
    "df=df.dropna()\n",
    "df=df.reset_index(drop=True)"
   ]
  },
  {
   "cell_type": "code",
   "execution_count": 5,
   "metadata": {
    "id": "qAPjEZ8EhDdc"
   },
   "outputs": [],
   "source": [
    "candidates_2=[]\n",
    "for i in range(len(df['content'])):\n",
    "  candidates_2.append(''.join(df['content'][i].split('.')[:2]))"
   ]
  },
  {
   "cell_type": "code",
   "execution_count": 6,
   "metadata": {
    "id": "lpUBrc2dhEDm"
   },
   "outputs": [],
   "source": [
    "subject=[]\n",
    "for i in range(len(df['subject'])):\n",
    "  subject.append(df['subject'][i])            "
   ]
  },
  {
   "cell_type": "code",
   "execution_count": 7,
   "metadata": {
    "id": "ni0l5ip0hykP"
   },
   "outputs": [],
   "source": [
    "import pandas as pd\n",
    "final_df = pd.DataFrame({'Generated Text':candidates_2,'Actual Text':subject})\n",
    "final_df.to_csv('./lead_2.csv')"
   ]
  }
 ],
 "metadata": {
  "colab": {
   "collapsed_sections": [],
   "name": "Lead_2 generation.ipynb",
   "provenance": []
  },
  "kernelspec": {
   "display_name": "Python 3",
   "language": "python",
   "name": "python3"
  },
  "language_info": {
   "codemirror_mode": {
    "name": "ipython",
    "version": 3
   },
   "file_extension": ".py",
   "mimetype": "text/x-python",
   "name": "python",
   "nbconvert_exporter": "python",
   "pygments_lexer": "ipython3",
   "version": "3.7.3"
  }
 },
 "nbformat": 4,
 "nbformat_minor": 1
}

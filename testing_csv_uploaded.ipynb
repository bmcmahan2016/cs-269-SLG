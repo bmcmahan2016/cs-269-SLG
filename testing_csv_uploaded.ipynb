{
 "cells": [
  {
   "cell_type": "code",
   "execution_count": 1,
   "metadata": {
    "id": "fMeCyICYK1tc"
   },
   "outputs": [],
   "source": [
    "import pandas as pd\n",
    "import numpy\n"
   ]
  },
  {
   "cell_type": "code",
   "execution_count": 2,
   "metadata": {
    "id": "b1BtGN_KR-Sf"
   },
   "outputs": [],
   "source": [
    "#always feel free to change the path, now the path is changed to lead_2\n",
    "#though the results printed below ARE NOT FOR lead_2, they are from previous\n",
    "#run\n",
    "path=\"./lead_2.csv\"\n",
    "df=pd.read_csv(path)"
   ]
  },
  {
   "cell_type": "markdown",
   "metadata": {
    "id": "Cs5Ud0igSaBK"
   },
   "source": [
    "Create code for running ROUGE score"
   ]
  },
  {
   "cell_type": "code",
   "execution_count": 3,
   "metadata": {
    "colab": {
     "base_uri": "https://localhost:8080/",
     "height": 35
    },
    "id": "4BQGpVTOSXFC",
    "outputId": "75a1cbd4-4999-4a1e-e2c2-3171837e8132"
   },
   "outputs": [
    {
     "data": {
      "application/vnd.google.colaboratory.intrinsic+json": {
       "type": "string"
      },
      "text/plain": [
       "'EPA memo'"
      ]
     },
     "execution_count": 3,
     "metadata": {
      "tags": []
     },
     "output_type": "execute_result"
    }
   ],
   "source": [
    "df['Generated Text'][1]"
   ]
  },
  {
   "cell_type": "code",
   "execution_count": 4,
   "metadata": {
    "colab": {
     "base_uri": "https://localhost:8080/"
    },
    "id": "8Y_8YvokTS_g",
    "outputId": "2849753b-5e3f-4335-c161-9c4088d4d1d6"
   },
   "outputs": [
    {
     "name": "stdout",
     "output_type": "stream",
     "text": [
      "Collecting rouge\n",
      "  Downloading https://files.pythonhosted.org/packages/43/cc/e18e33be20971ff73a056ebdb023476b5a545e744e3fc22acd8c758f1e0d/rouge-1.0.0-py3-none-any.whl\n",
      "Requirement already satisfied: six in /usr/local/lib/python3.6/dist-packages (from rouge) (1.15.0)\n",
      "Installing collected packages: rouge\n",
      "Successfully installed rouge-1.0.0\n"
     ]
    }
   ],
   "source": [
    "!pip install rouge"
   ]
  },
  {
   "cell_type": "code",
   "execution_count": 5,
   "metadata": {
    "id": "E7WRAyp0TiML"
   },
   "outputs": [],
   "source": [
    "from rouge import Rouge\n",
    "rouge=Rouge()"
   ]
  },
  {
   "cell_type": "code",
   "execution_count": 6,
   "metadata": {
    "id": "fp1i_m0ATk7o"
   },
   "outputs": [],
   "source": [
    "def cal_avg_rogue(candidates,reference):\n",
    "  summ_rouge_1_f=0\n",
    "  summ_rouge_1_p=0\n",
    "  summ_rouge_1_r=0\n",
    "  summ_rouge_2_f=0\n",
    "  summ_rouge_2_p=0\n",
    "  summ_rouge_2_r=0\n",
    "  #NOTE: this is L not 1\n",
    "  summ_rouge_l_f=0\n",
    "  summ_rouge_l_p=0\n",
    "  summ_rouge_l_r=0\n",
    "  #loop through the whole list to get a average rougue score\n",
    "  n=len(candidates)\n",
    "  for i in range(n):\n",
    "    temp_c=candidates[i]\n",
    "    temp_r=reference[i]\n",
    "    #jump through for score calcualtion if we encounter NaN\n",
    "    try:\n",
    "      scores=rouge.get_scores(temp_c, temp_r)\n",
    "    except:\n",
    "      continue\n",
    "    summ_rouge_1_f+=scores[0]['rouge-1']['f']\n",
    "    summ_rouge_1_p+=scores[0]['rouge-1']['p']\n",
    "    summ_rouge_1_r+=scores[0]['rouge-1']['r']\n",
    "    summ_rouge_2_f+=scores[0]['rouge-2']['f']\n",
    "    summ_rouge_2_p+=scores[0]['rouge-2']['p']\n",
    "    summ_rouge_2_r+=scores[0]['rouge-2']['r']\n",
    "    summ_rouge_l_f+=scores[0]['rouge-l']['f']\n",
    "    summ_rouge_l_p+=scores[0]['rouge-l']['p']\n",
    "    summ_rouge_l_r+=scores[0]['rouge-l']['r']\n",
    "\n",
    "  #calculate avg\n",
    "  summ_rouge_1_f/=n\n",
    "  summ_rouge_1_p/=n\n",
    "  summ_rouge_1_r/=n\n",
    "  summ_rouge_2_f/=n\n",
    "  summ_rouge_2_p/=n\n",
    "  summ_rouge_2_r/=n\n",
    "  #NOTE: this is L not 1\n",
    "  summ_rouge_l_f/=n\n",
    "  summ_rouge_l_p/=n\n",
    "  summ_rouge_l_r/=n\n",
    "\n",
    "  print(\"rouge-1 f, p, r:  \"+str(summ_rouge_1_f)+\" \"+str(summ_rouge_1_p)+\" \"+str(summ_rouge_1_r))\n",
    "  print(\"rouge-2 f, p, r:  \"+str(summ_rouge_2_f)+\" \"+str(summ_rouge_2_p)+\" \"+str(summ_rouge_2_r))\n",
    "  print(\"rouge-L f, p, r:  \"+str(summ_rouge_l_f)+\" \"+str(summ_rouge_l_p)+\" \"+str(summ_rouge_l_r))"
   ]
  },
  {
   "cell_type": "code",
   "execution_count": 7,
   "metadata": {
    "colab": {
     "base_uri": "https://localhost:8080/"
    },
    "id": "D0sp_UNAU3b6",
    "outputId": "eedf70d2-2df3-4882-d913-677382ebcebd"
   },
   "outputs": [
    {
     "name": "stdout",
     "output_type": "stream",
     "text": [
      "rouge-1 f, p, r:  0.14933025003810005 0.1835825303296446 0.1428587764107176\n",
      "rouge-2 f, p, r:  0.0669588731466369 0.08399332100801146 0.06509081596961977\n",
      "rouge-L f, p, r:  0.14579619322112963 0.17876172154766057 0.13978711768585853\n"
     ]
    }
   ],
   "source": [
    "cal_avg_rogue(list(df[\"Generated Text\"]),list(df[\"Actual Text\"]))"
   ]
  },
  {
   "cell_type": "markdown",
   "metadata": {
    "id": "P6k3gGDxWLJ3"
   },
   "source": [
    "Calculating METEOR score on the submission( remember to re download nltk first for METOR application)"
   ]
  },
  {
   "cell_type": "code",
   "execution_count": 14,
   "metadata": {
    "colab": {
     "base_uri": "https://localhost:8080/"
    },
    "id": "Yr_U8zMMdvAt",
    "outputId": "50f14d66-f3a7-4cab-aab3-ad51cb89c174"
   },
   "outputs": [
    {
     "name": "stdout",
     "output_type": "stream",
     "text": [
      "Requirement already up-to-date: nltk in /usr/local/lib/python3.6/dist-packages (3.5)\n",
      "Requirement already satisfied, skipping upgrade: click in /usr/local/lib/python3.6/dist-packages (from nltk) (7.1.2)\n",
      "Requirement already satisfied, skipping upgrade: joblib in /usr/local/lib/python3.6/dist-packages (from nltk) (0.17.0)\n",
      "Requirement already satisfied, skipping upgrade: tqdm in /usr/local/lib/python3.6/dist-packages (from nltk) (4.41.1)\n",
      "Requirement already satisfied, skipping upgrade: regex in /usr/local/lib/python3.6/dist-packages (from nltk) (2019.12.20)\n"
     ]
    }
   ],
   "source": [
    "!pip install -U nltk"
   ]
  },
  {
   "cell_type": "code",
   "execution_count": 9,
   "metadata": {
    "colab": {
     "base_uri": "https://localhost:8080/"
    },
    "id": "eWZJchAeeq5j",
    "outputId": "fe8173df-c660-4877-c0d6-ba993e7cc36c"
   },
   "outputs": [
    {
     "name": "stderr",
     "output_type": "stream",
     "text": [
      "[nltk_data] Downloading package wordnet to /root/nltk_data...\n",
      "[nltk_data]   Unzipping corpora/wordnet.zip.\n"
     ]
    },
    {
     "data": {
      "text/plain": [
       "True"
      ]
     },
     "execution_count": 9,
     "metadata": {
      "tags": []
     },
     "output_type": "execute_result"
    }
   ],
   "source": [
    "import nltk\n",
    "nltk.download('wordnet')"
   ]
  },
  {
   "cell_type": "code",
   "execution_count": 10,
   "metadata": {
    "id": "d3eMi7I1WAfD"
   },
   "outputs": [],
   "source": [
    "#this is a test for getting the METEOR score from NLTK\n",
    "score = nltk.translate.meteor_score.meteor_score([\"Katz Kutter Past Due Amount\"], \"past due amount\")"
   ]
  },
  {
   "cell_type": "code",
   "execution_count": 11,
   "metadata": {
    "colab": {
     "base_uri": "https://localhost:8080/"
    },
    "id": "KirVyfwYgXXZ",
    "outputId": "f2eb6161-a6f3-454f-a42f-2d307dcd39fa"
   },
   "outputs": [
    {
     "name": "stdout",
     "output_type": "stream",
     "text": [
      "0.6134259259259259\n"
     ]
    }
   ],
   "source": [
    "print(score)"
   ]
  },
  {
   "cell_type": "code",
   "execution_count": 12,
   "metadata": {
    "id": "35fk36YaeN3Y"
   },
   "outputs": [],
   "source": [
    "def get_avg_meteor(candidates,reference):\n",
    "  summ_meteor=0\n",
    "  n=len(candidates)\n",
    "  for i in range(n):\n",
    "    temp_c=candidates[i]\n",
    "    temp_r=reference[i]\n",
    "    try:\n",
    "      score = nltk.translate.meteor_score.meteor_score([temp_r], temp_c)\n",
    "      summ_meteor+=score\n",
    "    except:\n",
    "      continue\n",
    "  summ_meteor/=n\n",
    "  print(\"avg METEOR score:\"+ str(summ_meteor))"
   ]
  },
  {
   "cell_type": "code",
   "execution_count": 13,
   "metadata": {
    "colab": {
     "base_uri": "https://localhost:8080/"
    },
    "id": "jXiqz3Aif1rP",
    "outputId": "1774edda-3323-4a05-d516-358078147eb9"
   },
   "outputs": [
    {
     "name": "stdout",
     "output_type": "stream",
     "text": [
      "avg METEOR score:0.15443898048295865\n"
     ]
    }
   ],
   "source": [
    "get_avg_meteor(list(df[\"Generated Text\"]),list(df[\"Actual Text\"]))"
   ]
  }
 ],
 "metadata": {
  "colab": {
   "collapsed_sections": [],
   "name": "testing_csv_uploaded.ipynb",
   "provenance": []
  },
  "kernelspec": {
   "display_name": "Python 3",
   "language": "python",
   "name": "python3"
  },
  "language_info": {
   "codemirror_mode": {
    "name": "ipython",
    "version": 3
   },
   "file_extension": ".py",
   "mimetype": "text/x-python",
   "name": "python",
   "nbconvert_exporter": "python",
   "pygments_lexer": "ipython3",
   "version": "3.7.3"
  }
 },
 "nbformat": 4,
 "nbformat_minor": 1
}
